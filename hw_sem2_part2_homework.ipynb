{
  "nbformat": 4,
  "nbformat_minor": 0,
  "metadata": {
    "accelerator": "GPU",
    "colab": {
      "provenance": []
    },
    "kernelspec": {
      "display_name": "Python 3",
      "language": "python",
      "name": "python3"
    },
    "language_info": {
      "codemirror_mode": {
        "name": "ipython",
        "version": 3
      },
      "file_extension": ".py",
      "mimetype": "text/x-python",
      "name": "python",
      "nbconvert_exporter": "python",
      "pygments_lexer": "ipython3",
      "version": "3.5.2"
    },
    "widgets": {
      "application/vnd.jupyter.widget-state+json": {
        "41fe19ff4d97483ba36640c68322fe74": {
          "model_module": "@jupyter-widgets/controls",
          "model_name": "HBoxModel",
          "model_module_version": "1.5.0",
          "state": {
            "_dom_classes": [],
            "_model_module": "@jupyter-widgets/controls",
            "_model_module_version": "1.5.0",
            "_model_name": "HBoxModel",
            "_view_count": null,
            "_view_module": "@jupyter-widgets/controls",
            "_view_module_version": "1.5.0",
            "_view_name": "HBoxView",
            "box_style": "",
            "children": [
              "IPY_MODEL_844be6e7260e420ba7a29bd4215aaa41",
              "IPY_MODEL_bbae2cfa27ca4d678ee7f880535c048b",
              "IPY_MODEL_cb357069676e43fbb0daa0edaafb289d"
            ],
            "layout": "IPY_MODEL_efe2d685f9a44200b9bfb710ba1e8f86"
          }
        },
        "844be6e7260e420ba7a29bd4215aaa41": {
          "model_module": "@jupyter-widgets/controls",
          "model_name": "HTMLModel",
          "model_module_version": "1.5.0",
          "state": {
            "_dom_classes": [],
            "_model_module": "@jupyter-widgets/controls",
            "_model_module_version": "1.5.0",
            "_model_name": "HTMLModel",
            "_view_count": null,
            "_view_module": "@jupyter-widgets/controls",
            "_view_module_version": "1.5.0",
            "_view_name": "HTMLView",
            "description": "",
            "description_tooltip": null,
            "layout": "IPY_MODEL_2638e978ded04581a78c9f3b9fc5d85c",
            "placeholder": "​",
            "style": "IPY_MODEL_acc2114be32d47ad9d9f91a3616ac9fe",
            "value": "100%"
          }
        },
        "bbae2cfa27ca4d678ee7f880535c048b": {
          "model_module": "@jupyter-widgets/controls",
          "model_name": "FloatProgressModel",
          "model_module_version": "1.5.0",
          "state": {
            "_dom_classes": [],
            "_model_module": "@jupyter-widgets/controls",
            "_model_module_version": "1.5.0",
            "_model_name": "FloatProgressModel",
            "_view_count": null,
            "_view_module": "@jupyter-widgets/controls",
            "_view_module_version": "1.5.0",
            "_view_name": "ProgressView",
            "bar_style": "success",
            "description": "",
            "description_tooltip": null,
            "layout": "IPY_MODEL_2f1e89463846424a9c4c1015076b9454",
            "max": 300,
            "min": 0,
            "orientation": "horizontal",
            "style": "IPY_MODEL_612d808a788041d78aa3d34c67569c54",
            "value": 300
          }
        },
        "cb357069676e43fbb0daa0edaafb289d": {
          "model_module": "@jupyter-widgets/controls",
          "model_name": "HTMLModel",
          "model_module_version": "1.5.0",
          "state": {
            "_dom_classes": [],
            "_model_module": "@jupyter-widgets/controls",
            "_model_module_version": "1.5.0",
            "_model_name": "HTMLModel",
            "_view_count": null,
            "_view_module": "@jupyter-widgets/controls",
            "_view_module_version": "1.5.0",
            "_view_name": "HTMLView",
            "description": "",
            "description_tooltip": null,
            "layout": "IPY_MODEL_220d08e8695f4a5c8f7b8c9e2a93b337",
            "placeholder": "​",
            "style": "IPY_MODEL_798c726d6c434cffabdb4d00e5bc6b45",
            "value": " 300/300 [00:04&lt;00:00, 64.89it/s]"
          }
        },
        "efe2d685f9a44200b9bfb710ba1e8f86": {
          "model_module": "@jupyter-widgets/base",
          "model_name": "LayoutModel",
          "model_module_version": "1.2.0",
          "state": {
            "_model_module": "@jupyter-widgets/base",
            "_model_module_version": "1.2.0",
            "_model_name": "LayoutModel",
            "_view_count": null,
            "_view_module": "@jupyter-widgets/base",
            "_view_module_version": "1.2.0",
            "_view_name": "LayoutView",
            "align_content": null,
            "align_items": null,
            "align_self": null,
            "border": null,
            "bottom": null,
            "display": null,
            "flex": null,
            "flex_flow": null,
            "grid_area": null,
            "grid_auto_columns": null,
            "grid_auto_flow": null,
            "grid_auto_rows": null,
            "grid_column": null,
            "grid_gap": null,
            "grid_row": null,
            "grid_template_areas": null,
            "grid_template_columns": null,
            "grid_template_rows": null,
            "height": null,
            "justify_content": null,
            "justify_items": null,
            "left": null,
            "margin": null,
            "max_height": null,
            "max_width": null,
            "min_height": null,
            "min_width": null,
            "object_fit": null,
            "object_position": null,
            "order": null,
            "overflow": null,
            "overflow_x": null,
            "overflow_y": null,
            "padding": null,
            "right": null,
            "top": null,
            "visibility": null,
            "width": null
          }
        },
        "2638e978ded04581a78c9f3b9fc5d85c": {
          "model_module": "@jupyter-widgets/base",
          "model_name": "LayoutModel",
          "model_module_version": "1.2.0",
          "state": {
            "_model_module": "@jupyter-widgets/base",
            "_model_module_version": "1.2.0",
            "_model_name": "LayoutModel",
            "_view_count": null,
            "_view_module": "@jupyter-widgets/base",
            "_view_module_version": "1.2.0",
            "_view_name": "LayoutView",
            "align_content": null,
            "align_items": null,
            "align_self": null,
            "border": null,
            "bottom": null,
            "display": null,
            "flex": null,
            "flex_flow": null,
            "grid_area": null,
            "grid_auto_columns": null,
            "grid_auto_flow": null,
            "grid_auto_rows": null,
            "grid_column": null,
            "grid_gap": null,
            "grid_row": null,
            "grid_template_areas": null,
            "grid_template_columns": null,
            "grid_template_rows": null,
            "height": null,
            "justify_content": null,
            "justify_items": null,
            "left": null,
            "margin": null,
            "max_height": null,
            "max_width": null,
            "min_height": null,
            "min_width": null,
            "object_fit": null,
            "object_position": null,
            "order": null,
            "overflow": null,
            "overflow_x": null,
            "overflow_y": null,
            "padding": null,
            "right": null,
            "top": null,
            "visibility": null,
            "width": null
          }
        },
        "acc2114be32d47ad9d9f91a3616ac9fe": {
          "model_module": "@jupyter-widgets/controls",
          "model_name": "DescriptionStyleModel",
          "model_module_version": "1.5.0",
          "state": {
            "_model_module": "@jupyter-widgets/controls",
            "_model_module_version": "1.5.0",
            "_model_name": "DescriptionStyleModel",
            "_view_count": null,
            "_view_module": "@jupyter-widgets/base",
            "_view_module_version": "1.2.0",
            "_view_name": "StyleView",
            "description_width": ""
          }
        },
        "2f1e89463846424a9c4c1015076b9454": {
          "model_module": "@jupyter-widgets/base",
          "model_name": "LayoutModel",
          "model_module_version": "1.2.0",
          "state": {
            "_model_module": "@jupyter-widgets/base",
            "_model_module_version": "1.2.0",
            "_model_name": "LayoutModel",
            "_view_count": null,
            "_view_module": "@jupyter-widgets/base",
            "_view_module_version": "1.2.0",
            "_view_name": "LayoutView",
            "align_content": null,
            "align_items": null,
            "align_self": null,
            "border": null,
            "bottom": null,
            "display": null,
            "flex": null,
            "flex_flow": null,
            "grid_area": null,
            "grid_auto_columns": null,
            "grid_auto_flow": null,
            "grid_auto_rows": null,
            "grid_column": null,
            "grid_gap": null,
            "grid_row": null,
            "grid_template_areas": null,
            "grid_template_columns": null,
            "grid_template_rows": null,
            "height": null,
            "justify_content": null,
            "justify_items": null,
            "left": null,
            "margin": null,
            "max_height": null,
            "max_width": null,
            "min_height": null,
            "min_width": null,
            "object_fit": null,
            "object_position": null,
            "order": null,
            "overflow": null,
            "overflow_x": null,
            "overflow_y": null,
            "padding": null,
            "right": null,
            "top": null,
            "visibility": null,
            "width": null
          }
        },
        "612d808a788041d78aa3d34c67569c54": {
          "model_module": "@jupyter-widgets/controls",
          "model_name": "ProgressStyleModel",
          "model_module_version": "1.5.0",
          "state": {
            "_model_module": "@jupyter-widgets/controls",
            "_model_module_version": "1.5.0",
            "_model_name": "ProgressStyleModel",
            "_view_count": null,
            "_view_module": "@jupyter-widgets/base",
            "_view_module_version": "1.2.0",
            "_view_name": "StyleView",
            "bar_color": null,
            "description_width": ""
          }
        },
        "220d08e8695f4a5c8f7b8c9e2a93b337": {
          "model_module": "@jupyter-widgets/base",
          "model_name": "LayoutModel",
          "model_module_version": "1.2.0",
          "state": {
            "_model_module": "@jupyter-widgets/base",
            "_model_module_version": "1.2.0",
            "_model_name": "LayoutModel",
            "_view_count": null,
            "_view_module": "@jupyter-widgets/base",
            "_view_module_version": "1.2.0",
            "_view_name": "LayoutView",
            "align_content": null,
            "align_items": null,
            "align_self": null,
            "border": null,
            "bottom": null,
            "display": null,
            "flex": null,
            "flex_flow": null,
            "grid_area": null,
            "grid_auto_columns": null,
            "grid_auto_flow": null,
            "grid_auto_rows": null,
            "grid_column": null,
            "grid_gap": null,
            "grid_row": null,
            "grid_template_areas": null,
            "grid_template_columns": null,
            "grid_template_rows": null,
            "height": null,
            "justify_content": null,
            "justify_items": null,
            "left": null,
            "margin": null,
            "max_height": null,
            "max_width": null,
            "min_height": null,
            "min_width": null,
            "object_fit": null,
            "object_position": null,
            "order": null,
            "overflow": null,
            "overflow_x": null,
            "overflow_y": null,
            "padding": null,
            "right": null,
            "top": null,
            "visibility": null,
            "width": null
          }
        },
        "798c726d6c434cffabdb4d00e5bc6b45": {
          "model_module": "@jupyter-widgets/controls",
          "model_name": "DescriptionStyleModel",
          "model_module_version": "1.5.0",
          "state": {
            "_model_module": "@jupyter-widgets/controls",
            "_model_module_version": "1.5.0",
            "_model_name": "DescriptionStyleModel",
            "_view_count": null,
            "_view_module": "@jupyter-widgets/base",
            "_view_module_version": "1.2.0",
            "_view_name": "StyleView",
            "description_width": ""
          }
        },
        "9bed01aba5274f50a01469bc4b0efc67": {
          "model_module": "@jupyter-widgets/controls",
          "model_name": "HBoxModel",
          "model_module_version": "1.5.0",
          "state": {
            "_dom_classes": [],
            "_model_module": "@jupyter-widgets/controls",
            "_model_module_version": "1.5.0",
            "_model_name": "HBoxModel",
            "_view_count": null,
            "_view_module": "@jupyter-widgets/controls",
            "_view_module_version": "1.5.0",
            "_view_name": "HBoxView",
            "box_style": "",
            "children": [
              "IPY_MODEL_29c44228b7ef4fc08605a8576af26ee1",
              "IPY_MODEL_62de40fdb7254105bc94819f825298ad",
              "IPY_MODEL_ec5aae2f984d4e42a205ce821a893fb6"
            ],
            "layout": "IPY_MODEL_1b1d645a956040699a257bbca262f667"
          }
        },
        "29c44228b7ef4fc08605a8576af26ee1": {
          "model_module": "@jupyter-widgets/controls",
          "model_name": "HTMLModel",
          "model_module_version": "1.5.0",
          "state": {
            "_dom_classes": [],
            "_model_module": "@jupyter-widgets/controls",
            "_model_module_version": "1.5.0",
            "_model_name": "HTMLModel",
            "_view_count": null,
            "_view_module": "@jupyter-widgets/controls",
            "_view_module_version": "1.5.0",
            "_view_name": "HTMLView",
            "description": "",
            "description_tooltip": null,
            "layout": "IPY_MODEL_0e366a5cdf1648549d5c73a84c31acbc",
            "placeholder": "​",
            "style": "IPY_MODEL_4f52f0c025e84ab1992d36f57c6701e5",
            "value": "100%"
          }
        },
        "62de40fdb7254105bc94819f825298ad": {
          "model_module": "@jupyter-widgets/controls",
          "model_name": "FloatProgressModel",
          "model_module_version": "1.5.0",
          "state": {
            "_dom_classes": [],
            "_model_module": "@jupyter-widgets/controls",
            "_model_module_version": "1.5.0",
            "_model_name": "FloatProgressModel",
            "_view_count": null,
            "_view_module": "@jupyter-widgets/controls",
            "_view_module_version": "1.5.0",
            "_view_name": "ProgressView",
            "bar_style": "success",
            "description": "",
            "description_tooltip": null,
            "layout": "IPY_MODEL_aea50b8c7cbe4f4193a3af561aee0781",
            "max": 300,
            "min": 0,
            "orientation": "horizontal",
            "style": "IPY_MODEL_16f5d1caf74540c3919a617c0c038c96",
            "value": 300
          }
        },
        "ec5aae2f984d4e42a205ce821a893fb6": {
          "model_module": "@jupyter-widgets/controls",
          "model_name": "HTMLModel",
          "model_module_version": "1.5.0",
          "state": {
            "_dom_classes": [],
            "_model_module": "@jupyter-widgets/controls",
            "_model_module_version": "1.5.0",
            "_model_name": "HTMLModel",
            "_view_count": null,
            "_view_module": "@jupyter-widgets/controls",
            "_view_module_version": "1.5.0",
            "_view_name": "HTMLView",
            "description": "",
            "description_tooltip": null,
            "layout": "IPY_MODEL_f446739100884e4198df9879d0d13647",
            "placeholder": "​",
            "style": "IPY_MODEL_df398b9eca594ee78c042aa190a8e112",
            "value": " 300/300 [01:42&lt;00:00,  4.30it/s]"
          }
        },
        "1b1d645a956040699a257bbca262f667": {
          "model_module": "@jupyter-widgets/base",
          "model_name": "LayoutModel",
          "model_module_version": "1.2.0",
          "state": {
            "_model_module": "@jupyter-widgets/base",
            "_model_module_version": "1.2.0",
            "_model_name": "LayoutModel",
            "_view_count": null,
            "_view_module": "@jupyter-widgets/base",
            "_view_module_version": "1.2.0",
            "_view_name": "LayoutView",
            "align_content": null,
            "align_items": null,
            "align_self": null,
            "border": null,
            "bottom": null,
            "display": null,
            "flex": null,
            "flex_flow": null,
            "grid_area": null,
            "grid_auto_columns": null,
            "grid_auto_flow": null,
            "grid_auto_rows": null,
            "grid_column": null,
            "grid_gap": null,
            "grid_row": null,
            "grid_template_areas": null,
            "grid_template_columns": null,
            "grid_template_rows": null,
            "height": null,
            "justify_content": null,
            "justify_items": null,
            "left": null,
            "margin": null,
            "max_height": null,
            "max_width": null,
            "min_height": null,
            "min_width": null,
            "object_fit": null,
            "object_position": null,
            "order": null,
            "overflow": null,
            "overflow_x": null,
            "overflow_y": null,
            "padding": null,
            "right": null,
            "top": null,
            "visibility": null,
            "width": null
          }
        },
        "0e366a5cdf1648549d5c73a84c31acbc": {
          "model_module": "@jupyter-widgets/base",
          "model_name": "LayoutModel",
          "model_module_version": "1.2.0",
          "state": {
            "_model_module": "@jupyter-widgets/base",
            "_model_module_version": "1.2.0",
            "_model_name": "LayoutModel",
            "_view_count": null,
            "_view_module": "@jupyter-widgets/base",
            "_view_module_version": "1.2.0",
            "_view_name": "LayoutView",
            "align_content": null,
            "align_items": null,
            "align_self": null,
            "border": null,
            "bottom": null,
            "display": null,
            "flex": null,
            "flex_flow": null,
            "grid_area": null,
            "grid_auto_columns": null,
            "grid_auto_flow": null,
            "grid_auto_rows": null,
            "grid_column": null,
            "grid_gap": null,
            "grid_row": null,
            "grid_template_areas": null,
            "grid_template_columns": null,
            "grid_template_rows": null,
            "height": null,
            "justify_content": null,
            "justify_items": null,
            "left": null,
            "margin": null,
            "max_height": null,
            "max_width": null,
            "min_height": null,
            "min_width": null,
            "object_fit": null,
            "object_position": null,
            "order": null,
            "overflow": null,
            "overflow_x": null,
            "overflow_y": null,
            "padding": null,
            "right": null,
            "top": null,
            "visibility": null,
            "width": null
          }
        },
        "4f52f0c025e84ab1992d36f57c6701e5": {
          "model_module": "@jupyter-widgets/controls",
          "model_name": "DescriptionStyleModel",
          "model_module_version": "1.5.0",
          "state": {
            "_model_module": "@jupyter-widgets/controls",
            "_model_module_version": "1.5.0",
            "_model_name": "DescriptionStyleModel",
            "_view_count": null,
            "_view_module": "@jupyter-widgets/base",
            "_view_module_version": "1.2.0",
            "_view_name": "StyleView",
            "description_width": ""
          }
        },
        "aea50b8c7cbe4f4193a3af561aee0781": {
          "model_module": "@jupyter-widgets/base",
          "model_name": "LayoutModel",
          "model_module_version": "1.2.0",
          "state": {
            "_model_module": "@jupyter-widgets/base",
            "_model_module_version": "1.2.0",
            "_model_name": "LayoutModel",
            "_view_count": null,
            "_view_module": "@jupyter-widgets/base",
            "_view_module_version": "1.2.0",
            "_view_name": "LayoutView",
            "align_content": null,
            "align_items": null,
            "align_self": null,
            "border": null,
            "bottom": null,
            "display": null,
            "flex": null,
            "flex_flow": null,
            "grid_area": null,
            "grid_auto_columns": null,
            "grid_auto_flow": null,
            "grid_auto_rows": null,
            "grid_column": null,
            "grid_gap": null,
            "grid_row": null,
            "grid_template_areas": null,
            "grid_template_columns": null,
            "grid_template_rows": null,
            "height": null,
            "justify_content": null,
            "justify_items": null,
            "left": null,
            "margin": null,
            "max_height": null,
            "max_width": null,
            "min_height": null,
            "min_width": null,
            "object_fit": null,
            "object_position": null,
            "order": null,
            "overflow": null,
            "overflow_x": null,
            "overflow_y": null,
            "padding": null,
            "right": null,
            "top": null,
            "visibility": null,
            "width": null
          }
        },
        "16f5d1caf74540c3919a617c0c038c96": {
          "model_module": "@jupyter-widgets/controls",
          "model_name": "ProgressStyleModel",
          "model_module_version": "1.5.0",
          "state": {
            "_model_module": "@jupyter-widgets/controls",
            "_model_module_version": "1.5.0",
            "_model_name": "ProgressStyleModel",
            "_view_count": null,
            "_view_module": "@jupyter-widgets/base",
            "_view_module_version": "1.2.0",
            "_view_name": "StyleView",
            "bar_color": null,
            "description_width": ""
          }
        },
        "f446739100884e4198df9879d0d13647": {
          "model_module": "@jupyter-widgets/base",
          "model_name": "LayoutModel",
          "model_module_version": "1.2.0",
          "state": {
            "_model_module": "@jupyter-widgets/base",
            "_model_module_version": "1.2.0",
            "_model_name": "LayoutModel",
            "_view_count": null,
            "_view_module": "@jupyter-widgets/base",
            "_view_module_version": "1.2.0",
            "_view_name": "LayoutView",
            "align_content": null,
            "align_items": null,
            "align_self": null,
            "border": null,
            "bottom": null,
            "display": null,
            "flex": null,
            "flex_flow": null,
            "grid_area": null,
            "grid_auto_columns": null,
            "grid_auto_flow": null,
            "grid_auto_rows": null,
            "grid_column": null,
            "grid_gap": null,
            "grid_row": null,
            "grid_template_areas": null,
            "grid_template_columns": null,
            "grid_template_rows": null,
            "height": null,
            "justify_content": null,
            "justify_items": null,
            "left": null,
            "margin": null,
            "max_height": null,
            "max_width": null,
            "min_height": null,
            "min_width": null,
            "object_fit": null,
            "object_position": null,
            "order": null,
            "overflow": null,
            "overflow_x": null,
            "overflow_y": null,
            "padding": null,
            "right": null,
            "top": null,
            "visibility": null,
            "width": null
          }
        },
        "df398b9eca594ee78c042aa190a8e112": {
          "model_module": "@jupyter-widgets/controls",
          "model_name": "DescriptionStyleModel",
          "model_module_version": "1.5.0",
          "state": {
            "_model_module": "@jupyter-widgets/controls",
            "_model_module_version": "1.5.0",
            "_model_name": "DescriptionStyleModel",
            "_view_count": null,
            "_view_module": "@jupyter-widgets/base",
            "_view_module_version": "1.2.0",
            "_view_name": "StyleView",
            "description_width": ""
          }
        }
      }
    }
  },
  "cells": [
    {
      "cell_type": "markdown",
      "metadata": {
        "id": "Ws1FXPusI0Bh"
      },
      "source": [
        "# Text Summarization"
      ]
    },
    {
      "cell_type": "markdown",
      "source": [
        "Alice continues her journey and now she is in 2015. Now it has become easier, as you can use word2vec! This time Alice needs help to solve the problem of summarizing news texts."
      ],
      "metadata": {
        "id": "ArO8b4cQImY2"
      }
    },
    {
      "cell_type": "markdown",
      "metadata": {
        "id": "_MVKm9UMe7XQ"
      },
      "source": [
        "The task of summarization is to obtain a shorter text from the original text, which will contain all (or almost all) the information that was in the original text. Thus, from the text you need to obtain its summary in such a way as to lose as little information as possible."
      ]
    },
    {
      "cell_type": "markdown",
      "metadata": {
        "id": "rjvxmiYAe7XQ"
      },
      "source": [
        "Methods for solving this problem are usually divided into two categories:\n",
        "- Extractive Summarization $-$ algorithms based on identifying the most informative parts of the source text (sentences, paragraphs, etc.) and compiling a summary from them.\n",
        "- Abstractive Summarization $-$ algorithms that generate new text based on the source.\n",
        "\n",
        "We will work with Extractive Summarization."
      ]
    },
    {
      "cell_type": "markdown",
      "metadata": {
        "id": "Nw_H8eHYe7XQ"
      },
      "source": [
        "## 0. Dataset Preprocessing"
      ]
    },
    {
      "cell_type": "code",
      "metadata": {
        "id": "1QtEzk0qe7XR"
      },
      "source": [
        "import os\n",
        "import nltk\n",
        "import numpy as np\n",
        "\n",
        "from scipy import sparse\n",
        "from collections import defaultdict\n",
        "from tqdm import tqdm_notebook as tqdm\n",
        "from nltk.tokenize import sent_tokenize, word_tokenize\n",
        "from sklearn.feature_extraction.text import TfidfVectorizer"
      ],
      "execution_count": null,
      "outputs": []
    },
    {
      "cell_type": "markdown",
      "metadata": {
        "id": "UO9i_hsle7XR"
      },
      "source": [
        "### Loading dataset"
      ]
    },
    {
      "cell_type": "markdown",
      "metadata": {
        "id": "ryDe-hb-e7XR"
      },
      "source": [
        "We will use data from the CNN/DailyMail news corpus."
      ]
    },
    {
      "cell_type": "code",
      "metadata": {
        "id": "PxRpTtI4e7XR"
      },
      "source": [
        "DATA_DIR = './cnn_stories_short/'"
      ],
      "execution_count": null,
      "outputs": []
    },
    {
      "cell_type": "code",
      "metadata": {
        "id": "pOa572LMe7XR"
      },
      "source": [
        "%%capture\n",
        "\n",
        "!wget https://www.dropbox.com/s/kofxrgod7kl720m/cnn_stories_short.zip\n",
        "!mkdir cnn_data\n",
        "!unzip cnn_stories_short.zip -d $DATA_DIR\n",
        "!rm -r ./cnn_stories_short/__MACOSX"
      ],
      "execution_count": null,
      "outputs": []
    },
    {
      "cell_type": "markdown",
      "metadata": {
        "id": "Zf5xfzHpe7XS"
      },
      "source": [
        "### Dataset preparation"
      ]
    },
    {
      "cell_type": "markdown",
      "metadata": {
        "id": "p2VYb528e7XS"
      },
      "source": [
        "The dataset consists of source texts and already written summaries for them. We will save original texts."
      ]
    },
    {
      "cell_type": "code",
      "metadata": {
        "id": "J4vWoH6je7XS"
      },
      "source": [
        "texts = []\n",
        "for filename in os.listdir(DATA_DIR):\n",
        "    with open(os.path.join(DATA_DIR,filename),'r') as input_file:\n",
        "        all_texts = input_file.read().split('@highlight')\n",
        "        texts.append(all_texts[0])"
      ],
      "execution_count": null,
      "outputs": []
    },
    {
      "cell_type": "markdown",
      "metadata": {
        "id": "dCJpPwu7e7XS"
      },
      "source": [
        "#### We will need:\n",
        "* texts broken into sentences\n",
        "* sentences broken into tokens\n",
        "* texts, broken sentences that are broken into tokens"
      ]
    },
    {
      "cell_type": "code",
      "metadata": {
        "colab": {
          "base_uri": "https://localhost:8080/"
        },
        "id": "khBgQs8jhSpd",
        "outputId": "3f45336e-5413-4c8e-81c6-d30e4497556e"
      },
      "source": [
        "nltk.download('punkt_tab')"
      ],
      "execution_count": null,
      "outputs": [
        {
          "output_type": "stream",
          "name": "stderr",
          "text": [
            "[nltk_data] Downloading package punkt_tab to /root/nltk_data...\n",
            "[nltk_data]   Unzipping tokenizers/punkt_tab.zip.\n"
          ]
        },
        {
          "output_type": "execute_result",
          "data": {
            "text/plain": [
              "True"
            ]
          },
          "metadata": {},
          "execution_count": 5
        }
      ]
    },
    {
      "cell_type": "code",
      "metadata": {
        "id": "pF7-yhxZe7XS"
      },
      "source": [
        "sent_tokenized_texts = [sent_tokenize(text) for text in texts]\n",
        "tokenized_sentences = [word_tokenize(sent) for text in texts for sent in sent_tokenize(text)]\n",
        "tokenized_texts = [[word_tokenize(sent) for sent in text] for text in sent_tokenized_texts]"
      ],
      "execution_count": null,
      "outputs": []
    },
    {
      "cell_type": "markdown",
      "metadata": {
        "id": "t6YEJa8Je7XS"
      },
      "source": [
        "### Loading Word Embedding Model"
      ]
    },
    {
      "cell_type": "markdown",
      "metadata": {
        "id": "Ijvn-De8e7XS"
      },
      "source": [
        "For the TextRank algorithm, we need to obtain a vector representation for each sentence in the text.\n",
        "\n",
        "We will use pre-trained Glove vectors. **GloVe** (Global Vectors for Word Representation) is an unsupervised learning algorithm for obtaining vector representations for words, developed by Stanford University. It leverages global word-word co-occurrence statistics from a corpus to create dense vector embeddings that capture semantic meanings. GloVe vectors enable improved performance in various natural language processing tasks by representing words in a continuous vector space, where similar words are located closer together."
      ]
    },
    {
      "cell_type": "markdown",
      "metadata": {
        "id": "U0KFmssIe7XS"
      },
      "source": [
        "Let's load models:"
      ]
    },
    {
      "cell_type": "code",
      "metadata": {
        "id": "ubihkQGDe7XS"
      },
      "source": [
        "%%capture\n",
        "\n",
        "!wget http://nlp.stanford.edu/data/glove.6B.zip\n",
        "!unzip glove*.zip"
      ],
      "execution_count": null,
      "outputs": []
    },
    {
      "cell_type": "markdown",
      "source": [
        "The downloaded archive contains a set of files with vectors of different lengths. Each file stores a word on each line, followed by a space, the values ​​of the vector representation of this word."
      ],
      "metadata": {
        "id": "ss4NBNf4BWXX"
      }
    },
    {
      "cell_type": "code",
      "metadata": {
        "id": "EIxU3lDte7XS"
      },
      "source": [
        "word_embeddings = {}\n",
        "with open('glove.6B.100d.txt', encoding='utf-8') as f:\n",
        "    for line in f.readlines():\n",
        "        values = line.split()\n",
        "        word = values[0]\n",
        "        word_embeddings[word] = np.asarray(values[1:], dtype='float32')"
      ],
      "execution_count": null,
      "outputs": []
    },
    {
      "cell_type": "markdown",
      "source": [
        "We stored vectors to word_embeddings value. Thus, word_embeddings is a dictionary, where key is a word and value is a vector of this word."
      ],
      "metadata": {
        "id": "NM0K0SK7Brc5"
      }
    },
    {
      "cell_type": "markdown",
      "source": [
        "## Task 1: Word2Vec text representation\n",
        "\n",
        "*   For each text obtaint it's vector representation by averaging word2vec representation of each word. Just sum it component by component and divide on number of words in sentence. If word embedding model do not contain word initialize it with zeros. Use word representations saved in word_embeddings values.\n",
        "*   Count cosine similarity between each sentences and obtain matrix of cosine similarity **G**."
      ],
      "metadata": {
        "id": "NxVuWQpyCJ5E"
      }
    },
    {
      "cell_type": "code",
      "metadata": {
        "id": "wNGnN6UTe7XS"
      },
      "source": [
        "# TODO complete transform function. You can add additional values in class constructor if neccesary.\n",
        "\n",
        "class TfidfEmbeddingVectorizer:\n",
        "\n",
        "    def __init__(self, embedding_model, dim=100):\n",
        "        self.embedding_model = embedding_model # word embedding model\n",
        "        self.dim = dim\n",
        "\n",
        "    def transform(self, X):\n",
        "        # Take list of texts as input, returns np.array with vector representation of each text.\n",
        "        if len(X) == 0:\n",
        "            return np.zeros(self.dim)\n",
        "\n",
        "        texts_representation = []\n",
        "        for text in X:\n",
        "\n",
        "            vec_representation = []\n",
        "            for word in text:\n",
        "\n",
        "                if word in self.embedding_model:\n",
        "                    vec_representation.append(self.embedding_model[word])\n",
        "\n",
        "            texts_representation.append(np.mean(vec_representation, axis=0))\n",
        "\n",
        "\n",
        "        return np.array(texts_representation)"
      ],
      "execution_count": null,
      "outputs": []
    },
    {
      "cell_type": "code",
      "metadata": {
        "id": "ssKKoVgCe7XS"
      },
      "source": [
        "sentence_vectorizer = TfidfEmbeddingVectorizer(word_embeddings)"
      ],
      "execution_count": null,
      "outputs": []
    },
    {
      "cell_type": "markdown",
      "metadata": {
        "id": "jIcz-AJge7XS"
      },
      "source": [
        "### Building the Cosine Similarity Matrix"
      ]
    },
    {
      "cell_type": "markdown",
      "metadata": {
        "id": "iBPW-s9Qe7XS"
      },
      "source": [
        "For the *TextRank* algorithm, we need to build a weighted graph from the text. The graph will be represented as a matrix of cosine similarity between sentences."
      ]
    },
    {
      "cell_type": "markdown",
      "metadata": {
        "id": "Dt-LVd1je7XS"
      },
      "source": [
        "For example, let's build a graph in the form of a distance matrix for one of the texts.\n",
        "Let's choose one text and build a distance matrix for it. We'll use the cosine distance as a metric."
      ]
    },
    {
      "cell_type": "code",
      "metadata": {
        "id": "ZGcPZ5OIe7XS"
      },
      "source": [
        "TEXT_NUM = 5"
      ],
      "execution_count": null,
      "outputs": []
    },
    {
      "cell_type": "code",
      "metadata": {
        "id": "OMJlptQ-e7XS"
      },
      "source": [
        "sentences = tokenized_texts[TEXT_NUM]"
      ],
      "execution_count": null,
      "outputs": []
    },
    {
      "cell_type": "markdown",
      "metadata": {
        "id": "VO-WdWRIe7XS"
      },
      "source": [
        "Using the vectorizer, we will obtain vectors for all sentences of the text."
      ]
    },
    {
      "cell_type": "code",
      "metadata": {
        "id": "CtLXZkxKe7XS"
      },
      "source": [
        "vectorized_sentences = sentence_vectorizer.transform(sentences)"
      ],
      "execution_count": null,
      "outputs": []
    },
    {
      "cell_type": "markdown",
      "metadata": {
        "id": "R21iKMMNe7XS"
      },
      "source": [
        "Let's calculate the matrix with cosine distances."
      ]
    },
    {
      "cell_type": "code",
      "metadata": {
        "id": "XXGTMo30e7XS"
      },
      "source": [
        "## TODO calculate the matrix of cosine similarity and assign it to G value.\n",
        "from sklearn.metrics.pairwise import cosine_similarity\n",
        "\n",
        "\n",
        "def get_cosine_similarity_matrix(sentences):\n",
        "  return cosine_similarity(sentences)\n",
        "\n",
        "\n",
        "G = get_cosine_similarity_matrix(vectorized_sentences)"
      ],
      "execution_count": null,
      "outputs": []
    },
    {
      "cell_type": "markdown",
      "metadata": {
        "id": "8ET-m3hqe7XS"
      },
      "source": [
        "## Extractive Summarization $-$ TextRank"
      ]
    },
    {
      "cell_type": "markdown",
      "metadata": {
        "id": "kp-VMj13e7XS"
      },
      "source": [
        "Now we will implement the text summarization method itself. It will be based on the *PageRank* algorithm.\n",
        "\n",
        "*PageRank* $-$ is a recursive algorithm that evaluates the importance of each node in the graph based on its connections with other nodes. Initially, the algorithm was used to evaluate the importance of Internet pages for search engines.\n",
        "\n",
        "The adaptation of this algorithm for text summarization is called *TextRank*.\n",
        "\n",
        "The algorithm sequentially goes through all the nodes in the graph and recalculates the PageRank values ​​for each of them using the formula below.\n",
        "\n",
        "This happens until the process stabilizes, that is, the *PageRank* values ​​for all nodes stop changing significantly with each new iteration."
      ]
    },
    {
      "cell_type": "markdown",
      "metadata": {
        "id": "71IpX-eJe7XS"
      },
      "source": [
        "$$ G = (V,E) - граф $$\n",
        "$$$$\n",
        "$$ PageRank(v) = \\frac{(1-d)}{N} +  d \\sum_{u} \\frac {PageRank(u) * W_{(u, v)}} {C(u)}$$\n",
        "\n",
        "$$v\\ -\\ вершина\\ графа, v \\in V $$\n",
        "\n",
        "$$u\\ -\\ вершины\\ графа,\\ такие\\ что\\ (u,v) \\in E$$\n",
        "\n",
        "$$C(u) - количество \\ вершин, \\ таких \\ что (u,v) \\in E$$\n",
        "\n",
        "$$W_{(u, v)} - вес\\ ребра\\ (u, v) \\in E $$\n",
        "\n",
        "$$d = 0,85\\ -\\ коэффициент\\ затухания$$"
      ]
    },
    {
      "cell_type": "markdown",
      "metadata": {
        "id": "lmy85qpwe7XT"
      },
      "source": [
        "Let's use NetworkX library to Page Rank algorithm."
      ]
    },
    {
      "cell_type": "code",
      "metadata": {
        "colab": {
          "base_uri": "https://localhost:8080/"
        },
        "id": "_VO53fXXe7XT",
        "outputId": "796d6771-91bc-4e32-e33d-49934fbe351c"
      },
      "source": [
        "!pip install networkx"
      ],
      "execution_count": null,
      "outputs": [
        {
          "output_type": "stream",
          "name": "stdout",
          "text": [
            "Requirement already satisfied: networkx in /usr/local/lib/python3.11/dist-packages (3.4.2)\n"
          ]
        }
      ]
    },
    {
      "cell_type": "code",
      "metadata": {
        "id": "D8etYKWUe7XT"
      },
      "source": [
        "import networkx as nx\n",
        "\n",
        "nx_graph = nx.from_numpy_array(G)\n",
        "nx_scores = nx.pagerank(nx_graph)"
      ],
      "execution_count": null,
      "outputs": []
    },
    {
      "cell_type": "code",
      "metadata": {
        "id": "DHfzMgS4e7XT"
      },
      "source": [
        "ranked_sentences = sorted(((nx_scores[i], s, i) for i,s in enumerate(sentences)), reverse=True)"
      ],
      "execution_count": null,
      "outputs": []
    },
    {
      "cell_type": "markdown",
      "metadata": {
        "id": "Igrhq5s8e7XT"
      },
      "source": [
        "Let's output 5 sentences with the highest TextRank. This will be our final text summation."
      ]
    },
    {
      "cell_type": "code",
      "metadata": {
        "colab": {
          "base_uri": "https://localhost:8080/"
        },
        "id": "cAEpPUaRe7XT",
        "outputId": "d4944ff4-c495-41b8-bdac-c551578e11bc"
      },
      "source": [
        "SUMMARY_LEN = 5\n",
        "\n",
        "for i in range(SUMMARY_LEN):\n",
        "    print(' '.join(ranked_sentences[i][1]))"
      ],
      "execution_count": null,
      "outputs": [
        {
          "output_type": "stream",
          "name": "stdout",
          "text": [
            "( CNN ) Craigslist reports about 80 million ads on its site each month , so even if you have n't met a stranger to buy or sell something online , chances are you know someone who has .\n",
            "Philip Holloway is a law enforcement adviser and defense attorney with some tips on things you should remember when buying and selling goods online : 10 .\n",
            "A couple from Georgia was traveling to a Craigslist transaction last month when they left their suburban Atlanta home in hopes of buying a 1966 Ford Mustang .\n",
            "In a separate incident Friday , two men in Georgia met a seller to purchase a dog .\n",
            "Always meet in a public place Most police departments will be happy to accommodate you , and they are open 24/7 .\n"
          ]
        }
      ]
    },
    {
      "cell_type": "markdown",
      "metadata": {
        "id": "B4fkiVnue7XT"
      },
      "source": [
        "Now let's combine everything into one summarize function, which will receive text divided into sentences as input and output 5 sentences with the highest *TextRank*."
      ]
    },
    {
      "cell_type": "code",
      "metadata": {
        "id": "czbHL1xQe7XT"
      },
      "source": [
        "def summarize(sentences,summary_len=5):\n",
        "    vectorized_sentences = sentence_vectorizer.transform(sentences)\n",
        "    G = get_cosine_similarity_matrix(vectorized_sentences)\n",
        "    nx_graph = nx.from_numpy_array(G)\n",
        "    nx_scores = nx.pagerank(nx_graph)\n",
        "    ranked_sentences = sorted(((nx_scores[i],s,i) for i,s in enumerate(sentences)), reverse=True)\n",
        "    summary = []\n",
        "    for i in range(summary_len):\n",
        "        summary.append(' '.join(ranked_sentences[i][1]))\n",
        "    return summary"
      ],
      "execution_count": null,
      "outputs": []
    },
    {
      "cell_type": "code",
      "metadata": {
        "colab": {
          "base_uri": "https://localhost:8080/"
        },
        "id": "x90bwnQJe7XT",
        "outputId": "4e57f6c7-1185-4119-ff22-7904abd0e0d3"
      },
      "source": [
        "summarize(tokenized_texts[5])"
      ],
      "execution_count": null,
      "outputs": [
        {
          "output_type": "execute_result",
          "data": {
            "text/plain": [
              "[\"( CNN ) Craigslist reports about 80 million ads on its site each month , so even if you have n't met a stranger to buy or sell something online , chances are you know someone who has .\",\n",
              " 'Philip Holloway is a law enforcement adviser and defense attorney with some tips on things you should remember when buying and selling goods online : 10 .',\n",
              " 'A couple from Georgia was traveling to a Craigslist transaction last month when they left their suburban Atlanta home in hopes of buying a 1966 Ford Mustang .',\n",
              " 'In a separate incident Friday , two men in Georgia met a seller to purchase a dog .',\n",
              " 'Always meet in a public place Most police departments will be happy to accommodate you , and they are open 24/7 .']"
            ]
          },
          "metadata": {},
          "execution_count": 81
        }
      ]
    },
    {
      "cell_type": "markdown",
      "metadata": {
        "id": "G8OXOauTe7XT"
      },
      "source": [
        "Let's get summaries for all our texts:"
      ]
    },
    {
      "cell_type": "code",
      "metadata": {
        "colab": {
          "base_uri": "https://localhost:8080/",
          "height": 103,
          "referenced_widgets": [
            "41fe19ff4d97483ba36640c68322fe74",
            "844be6e7260e420ba7a29bd4215aaa41",
            "bbae2cfa27ca4d678ee7f880535c048b",
            "cb357069676e43fbb0daa0edaafb289d",
            "efe2d685f9a44200b9bfb710ba1e8f86",
            "2638e978ded04581a78c9f3b9fc5d85c",
            "acc2114be32d47ad9d9f91a3616ac9fe",
            "2f1e89463846424a9c4c1015076b9454",
            "612d808a788041d78aa3d34c67569c54",
            "220d08e8695f4a5c8f7b8c9e2a93b337",
            "798c726d6c434cffabdb4d00e5bc6b45"
          ]
        },
        "id": "W6-QvjoPe7XT",
        "outputId": "646fa77a-0741-40e9-8ae9-b8e178c82e99"
      },
      "source": [
        "system_summaries = [summarize(text) for text in tqdm(tokenized_texts)]"
      ],
      "execution_count": null,
      "outputs": [
        {
          "output_type": "stream",
          "name": "stderr",
          "text": [
            "<ipython-input-82-8f2452768a61>:1: TqdmDeprecationWarning: This function will be removed in tqdm==5.0.0\n",
            "Please use `tqdm.notebook.tqdm` instead of `tqdm.tqdm_notebook`\n",
            "  system_summaries = [summarize(text) for text in tqdm(tokenized_texts)]\n"
          ]
        },
        {
          "output_type": "display_data",
          "data": {
            "text/plain": [
              "  0%|          | 0/300 [00:00<?, ?it/s]"
            ],
            "application/vnd.jupyter.widget-view+json": {
              "version_major": 2,
              "version_minor": 0,
              "model_id": "41fe19ff4d97483ba36640c68322fe74"
            }
          },
          "metadata": {}
        }
      ]
    },
    {
      "cell_type": "markdown",
      "source": [
        "Let's look on the 10th sample"
      ],
      "metadata": {
        "id": "t_c_0DtTW9tX"
      }
    },
    {
      "cell_type": "code",
      "source": [
        "print(\"\\n\".join(system_summaries[10][:5]))"
      ],
      "metadata": {
        "id": "LQ5FFoIOW6Qp",
        "colab": {
          "base_uri": "https://localhost:8080/"
        },
        "outputId": "d6baf8c2-dba4-4e67-a90f-0d6adb351489"
      },
      "execution_count": null,
      "outputs": [
        {
          "output_type": "stream",
          "name": "stdout",
          "text": [
            "The couple , who earn just $ 1 a day as casual laborers , wanted her to have the operation but were unable to pay for the rare procedure , which had never before been performed in India .\n",
            "Planning for the surgery took a month , Patil said , and Lakshmi spent that month in the hospital .\n",
            "BANGALORE , India ( CNN ) -- Two-year-old Lakshmi Tatma , an Indian toddler born with four arms and four legs , made her first public appearance Tuesday , a week after surgeons in India successfully removed her additional limbs .\n",
            "Several of her doctors , all of them smiling , described her recovery over the past week `` very steady and good progress , '' one saying she is `` out of the woods '' as far as serious medical issues are concerned .\n",
            "Lakshmi , wearing a plaster cast on her legs to keep her feet up and her legs together to help her wounds heal , was carried into a news conference Tuesday as her doctors announced she was being released from intensive care .\n"
          ]
        }
      ]
    },
    {
      "cell_type": "markdown",
      "source": [
        "## Task 2 IDF word2vec modification\n",
        "\n",
        "Modify your previous solution. For each text obtaint it's vector representation by averaging word2vec representation of each word multiplied by the IDF value of this word."
      ],
      "metadata": {
        "id": "CDN4nVJYGu4i"
      }
    },
    {
      "cell_type": "code",
      "source": [
        " #TODO complete transform function. You can add additional values in class constructor if neccesary.\n",
        "import numpy as np\n",
        "from sklearn.feature_extraction.text import TfidfVectorizer\n",
        "\n",
        "class TfidfEmbeddingVectorizer:\n",
        "    def __init__(self, embedding_model, dim=100):\n",
        "        self.embedding_model = embedding_model\n",
        "        self.dim = dim\n",
        "        self.tfidf = None\n",
        "\n",
        "    def fit(self, X):\n",
        "        # TF-IDF fitting\n",
        "        self.tfidf = TfidfVectorizer()\n",
        "        corpus = [\" \".join(tokens) for tokens in X]\n",
        "        self.tfidf.fit(corpus)\n",
        "        return self\n",
        "\n",
        "    def transform(self, X):\n",
        "        if self.tfidf is None:\n",
        "            raise ValueError(\"The model has not been fitted yet.\")\n",
        "\n",
        "        corpus = [\" \".join(tokens) for tokens in X]\n",
        "        tfidf_matrix = self.tfidf.transform(corpus)\n",
        "        feature_names = self.tfidf.get_feature_names_out()\n",
        "\n",
        "        texts_representation = []\n",
        "\n",
        "        for i, words in enumerate(X):\n",
        "            word_vectors = []\n",
        "            word_weights = []\n",
        "\n",
        "            for word in words:\n",
        "                if word in self.embedding_model and word in feature_names:\n",
        "                    word_vec = self.embedding_model[word]\n",
        "                    word_weight = tfidf_matrix[i, self.tfidf.vocabulary_.get(word, 0)]\n",
        "\n",
        "                    word_vectors.append(word_vec * word_weight)\n",
        "                    word_weights.append(word_weight)\n",
        "\n",
        "            if word_vectors:\n",
        "                text_vector = np.sum(word_vectors, axis=0) / (np.sum(word_weights) if np.sum(word_weights) != 0 else 1)\n",
        "            else:\n",
        "                text_vector = np.zeros(self.dim)\n",
        "\n",
        "            texts_representation.append(text_vector)\n",
        "\n",
        "        return np.array(texts_representation)"
      ],
      "metadata": {
        "id": "2cHehImhHF2r"
      },
      "execution_count": null,
      "outputs": []
    },
    {
      "cell_type": "code",
      "source": [
        "sentence_vectorizer = TfidfEmbeddingVectorizer(word_embeddings)\n",
        "sentence_vectorizer = sentence_vectorizer.fit(tokenized_sentences)"
      ],
      "metadata": {
        "id": "Upsu9v71azGa"
      },
      "execution_count": null,
      "outputs": []
    },
    {
      "cell_type": "code",
      "source": [
        "## TODO copy your function for cosine similarity here\n",
        "\n",
        "def get_cosine_similarity_matrix(sentences):\n",
        "  return cosine_similarity(sentences)"
      ],
      "metadata": {
        "id": "Qe3BCk5BHqE_"
      },
      "execution_count": null,
      "outputs": []
    },
    {
      "cell_type": "markdown",
      "source": [
        "I changed this code a bit because it didn't work for all examples."
      ],
      "metadata": {
        "id": "JRxJZZe4BUt1"
      }
    },
    {
      "cell_type": "code",
      "source": [
        "def summarize(sentences, summary_len=5):\n",
        "    vectorized_sentences = sentence_vectorizer.transform(sentences)\n",
        "    G = get_cosine_similarity_matrix(vectorized_sentences)\n",
        "    np.fill_diagonal(G, 0)\n",
        "    G = np.nan_to_num(G, nan=0.0)\n",
        "    nx_graph = nx.from_numpy_array(G)\n",
        "    n = nx_graph.number_of_nodes()\n",
        "    personalization = {i: 1/n for i in range(n)}\n",
        "    nx_scores = nx.pagerank(nx_graph, alpha=0.8, personalization=personalization, max_iter=10000, tol=1.0e-3)\n",
        "    ranked_sentences = sorted(((nx_scores[i], s, i) for i, s in enumerate(sentences)), reverse=True)\n",
        "    summary = [' '.join(ranked_sentences[i][1]) for i in range(summary_len)]\n",
        "    return summary\n"
      ],
      "metadata": {
        "id": "VnT8wwh3HkHC"
      },
      "execution_count": null,
      "outputs": []
    },
    {
      "cell_type": "markdown",
      "source": [
        " Summarize your texts"
      ],
      "metadata": {
        "id": "eLjw16jUH1Q5"
      }
    },
    {
      "cell_type": "code",
      "source": [
        "system_summaries = [summarize(text) for text in tqdm(tokenized_texts)]"
      ],
      "metadata": {
        "id": "ztVXsYR-HzAx",
        "colab": {
          "base_uri": "https://localhost:8080/",
          "height": 103,
          "referenced_widgets": [
            "9bed01aba5274f50a01469bc4b0efc67",
            "29c44228b7ef4fc08605a8576af26ee1",
            "62de40fdb7254105bc94819f825298ad",
            "ec5aae2f984d4e42a205ce821a893fb6",
            "1b1d645a956040699a257bbca262f667",
            "0e366a5cdf1648549d5c73a84c31acbc",
            "4f52f0c025e84ab1992d36f57c6701e5",
            "aea50b8c7cbe4f4193a3af561aee0781",
            "16f5d1caf74540c3919a617c0c038c96",
            "f446739100884e4198df9879d0d13647",
            "df398b9eca594ee78c042aa190a8e112"
          ]
        },
        "outputId": "1d6c16cd-5deb-4bf5-d1ae-753b1a0681a8"
      },
      "execution_count": null,
      "outputs": [
        {
          "output_type": "stream",
          "name": "stderr",
          "text": [
            "<ipython-input-120-8f2452768a61>:1: TqdmDeprecationWarning: This function will be removed in tqdm==5.0.0\n",
            "Please use `tqdm.notebook.tqdm` instead of `tqdm.tqdm_notebook`\n",
            "  system_summaries = [summarize(text) for text in tqdm(tokenized_texts)]\n"
          ]
        },
        {
          "output_type": "display_data",
          "data": {
            "text/plain": [
              "  0%|          | 0/300 [00:00<?, ?it/s]"
            ],
            "application/vnd.jupyter.widget-view+json": {
              "version_major": 2,
              "version_minor": 0,
              "model_id": "9bed01aba5274f50a01469bc4b0efc67"
            }
          },
          "metadata": {}
        }
      ]
    },
    {
      "cell_type": "markdown",
      "source": [
        "Print summary for 7-th sample:"
      ],
      "metadata": {
        "id": "CBNC5pqTICgz"
      }
    },
    {
      "cell_type": "code",
      "source": [
        "system_summaries[7]"
      ],
      "metadata": {
        "id": "Kqz8SPF1H_n2",
        "colab": {
          "base_uri": "https://localhost:8080/"
        },
        "outputId": "26e73c61-bd4b-4db1-e877-83847bea19ae"
      },
      "execution_count": null,
      "outputs": [
        {
          "output_type": "execute_result",
          "data": {
            "text/plain": [
              "[\"`` We have had no word on the state of his health , whether or not the medications sent to him through the Swedish Embassy in North Korea have been delivered or why he was detained , '' the statement said .\",\n",
              " 'Bill Richardson , a former ambassador to the United Nations , has visited North Korea a number of times over the years , most recently this year to discuss the release of Bae .',\n",
              " \"`` He has been detained somewhere in North Korea since that time , '' Newman 's wife said in the statement .\",\n",
              " 'Washington does not have diplomatic relations with Pyongyang , and it has been working through Sweden -- the U.S. protecting power in North Korea -- to obtain information about the American .',\n",
              " \"`` The family feels there has been some dreadful misunderstanding leading to his detention and asks that ( North Korea ) work to settle this issue quickly and to return this 85-year-old grandfather to his anxious , concerned family , '' she said in a statement .\"]"
            ]
          },
          "metadata": {},
          "execution_count": 121
        }
      ]
    },
    {
      "cell_type": "code",
      "source": [],
      "metadata": {
        "id": "WWFHi2PMCDYl"
      },
      "execution_count": null,
      "outputs": []
    }
  ]
}