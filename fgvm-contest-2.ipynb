{
 "cells": [
  {
   "cell_type": "code",
   "execution_count": 1,
   "id": "7d685420",
   "metadata": {
    "_cell_guid": "b1076dfc-b9ad-4769-8c92-a6c4dae69d19",
    "_uuid": "8f2839f25d086af736a60e9eeb907d3b93b6e0e5",
    "execution": {
     "iopub.execute_input": "2025-03-06T20:29:33.769613Z",
     "iopub.status.busy": "2025-03-06T20:29:33.769285Z",
     "iopub.status.idle": "2025-03-06T20:29:51.311478Z",
     "shell.execute_reply": "2025-03-06T20:29:51.310581Z"
    },
    "papermill": {
     "duration": 17.548185,
     "end_time": "2025-03-06T20:29:51.313061",
     "exception": false,
     "start_time": "2025-03-06T20:29:33.764876",
     "status": "completed"
    },
    "tags": []
   },
   "outputs": [],
   "source": [
    "import os\n",
    "from tqdm.notebook import tqdm\n",
    "import gc\n",
    "from torch.nn import Parameter\n",
    "import torch.nn.functional as F\n",
    "import torch.nn as nn\n",
    "import math\n",
    "import timm\n",
    "import pandas as pl\n",
    "import torch\n",
    "import numpy as np\n",
    "from torch.amp import GradScaler\n",
    "import cv2\n",
    "import random\n",
    "from tqdm import tqdm\n",
    "from torch.autograd import Variable\n",
    "from skimage.metrics import structural_similarity as ssim"
   ]
  },
  {
   "cell_type": "code",
   "execution_count": 2,
   "id": "32126078",
   "metadata": {
    "execution": {
     "iopub.execute_input": "2025-03-06T20:29:51.320788Z",
     "iopub.status.busy": "2025-03-06T20:29:51.320413Z",
     "iopub.status.idle": "2025-03-06T20:29:51.332554Z",
     "shell.execute_reply": "2025-03-06T20:29:51.331981Z"
    },
    "papermill": {
     "duration": 0.017131,
     "end_time": "2025-03-06T20:29:51.333808",
     "exception": false,
     "start_time": "2025-03-06T20:29:51.316677",
     "status": "completed"
    },
    "tags": []
   },
   "outputs": [],
   "source": [
    "def seed_everything(seed):\n",
    "    random.seed(seed)\n",
    "    os.environ['PYTHONHASHSEED'] = str(seed)\n",
    "    np.random.seed(seed)\n",
    "    torch.manual_seed(seed)\n",
    "    torch.cuda.manual_seed(seed)\n",
    "    torch.cuda.manual_seed_all(seed)\n",
    "    torch.backends.cudnn.deterministic = True\n",
    "    torch.backends.cudnn.benchmark = False\n",
    "\n",
    "seed_everything(228)"
   ]
  },
  {
   "cell_type": "code",
   "execution_count": 3,
   "id": "6d131e51",
   "metadata": {
    "execution": {
     "iopub.execute_input": "2025-03-06T20:29:51.340392Z",
     "iopub.status.busy": "2025-03-06T20:29:51.340169Z",
     "iopub.status.idle": "2025-03-06T20:29:51.656447Z",
     "shell.execute_reply": "2025-03-06T20:29:51.655518Z"
    },
    "papermill": {
     "duration": 0.32117,
     "end_time": "2025-03-06T20:29:51.657966",
     "exception": false,
     "start_time": "2025-03-06T20:29:51.336796",
     "status": "completed"
    },
    "tags": []
   },
   "outputs": [],
   "source": [
    "path2files = '/kaggle/input/ioai-contest-2/'\n",
    "\n",
    "pairs = pl.read_csv(path2files + 'imgs/pairs_list.csv')\n",
    "paths_embeds = pl.read_csv(path2files + 'imgs/paths_embeds.csv')['image_path']\n",
    "real_embeds = np.load(path2files + 'imgs/real_embeds.npy')"
   ]
  },
  {
   "cell_type": "code",
   "execution_count": 4,
   "id": "2cf374fd",
   "metadata": {
    "execution": {
     "iopub.execute_input": "2025-03-06T20:29:51.665249Z",
     "iopub.status.busy": "2025-03-06T20:29:51.665023Z",
     "iopub.status.idle": "2025-03-06T20:29:51.670129Z",
     "shell.execute_reply": "2025-03-06T20:29:51.669533Z"
    },
    "papermill": {
     "duration": 0.010057,
     "end_time": "2025-03-06T20:29:51.671400",
     "exception": false,
     "start_time": "2025-03-06T20:29:51.661343",
     "status": "completed"
    },
    "tags": []
   },
   "outputs": [],
   "source": [
    "class MCSDataset(torch.utils.data.Dataset):\n",
    "    def __init__(self, image_path, target, imsize = 112):\n",
    "        self.image_path = image_path\n",
    "        self.target = target\n",
    "        self.image_size = imsize\n",
    "\n",
    "    def __len__(self):\n",
    "        return len(self.target)\n",
    "\n",
    "    def resize(self, img, interp):\n",
    "        return  cv2.resize(\n",
    "            img, (self.image_size, self.image_size), interpolation=interp)\n",
    "\n",
    "    def __getitem__(self, idx):\n",
    "        path = self.image_path[idx]\n",
    "        target = self.target[idx]\n",
    "        img = cv2.imread(f'{path2files}imgs/train/{path}')\n",
    "        img = cv2.resize(\n",
    "            img, (self.image_size, self.image_size), interpolation= cv2.INTER_LINEAR)\n",
    "\n",
    "        img = (img / 255.) - 0.5\n",
    "        img = np.transpose(img,(2,0,1)).astype(np.float32)\n",
    "        img = torch.from_numpy(img)\n",
    "        target = torch.from_numpy(target)\n",
    "\n",
    "        return img, target"
   ]
  },
  {
   "cell_type": "code",
   "execution_count": 5,
   "id": "449140f1",
   "metadata": {
    "execution": {
     "iopub.execute_input": "2025-03-06T20:29:51.678241Z",
     "iopub.status.busy": "2025-03-06T20:29:51.678010Z",
     "iopub.status.idle": "2025-03-06T20:29:51.682661Z",
     "shell.execute_reply": "2025-03-06T20:29:51.681885Z"
    },
    "papermill": {
     "duration": 0.009373,
     "end_time": "2025-03-06T20:29:51.683884",
     "exception": false,
     "start_time": "2025-03-06T20:29:51.674511",
     "status": "completed"
    },
    "tags": []
   },
   "outputs": [],
   "source": [
    "def make_predict(model, val_loader, val_target, loss_func, DEVICE = 'cuda'):\n",
    "    preds = []\n",
    "    model.eval()\n",
    "    average_loss = 0\n",
    "    with torch.no_grad():\n",
    "        for batch_number,  (img, target) in enumerate(val_loader):\n",
    "            img = img.to(DEVICE)\n",
    "            target = target.to(DEVICE)\n",
    "\n",
    "            with torch.amp.autocast('cuda'):\n",
    "                outputs = model(img)\n",
    "                loss = loss_func(outputs, target)\n",
    "\n",
    "            average_loss += loss.cpu().detach().numpy()\n",
    "            preds += [outputs.to('cpu').numpy()]\n",
    "    preds = np.concatenate(preds)\n",
    "    print('MSE: ', ((preds -  np.array(val_target)) ** 2).mean())"
   ]
  },
  {
   "cell_type": "code",
   "execution_count": 6,
   "id": "0de024a0",
   "metadata": {
    "execution": {
     "iopub.execute_input": "2025-03-06T20:29:51.690620Z",
     "iopub.status.busy": "2025-03-06T20:29:51.690406Z",
     "iopub.status.idle": "2025-03-06T20:29:51.694813Z",
     "shell.execute_reply": "2025-03-06T20:29:51.694195Z"
    },
    "papermill": {
     "duration": 0.009029,
     "end_time": "2025-03-06T20:29:51.695902",
     "exception": false,
     "start_time": "2025-03-06T20:29:51.686873",
     "status": "completed"
    },
    "tags": []
   },
   "outputs": [],
   "source": [
    "class Model(nn.Module):\n",
    "    def __init__(self, model_name,):\n",
    "        super().__init__()\n",
    "        self.model_name = model_name\n",
    "        self.timm_ = timm.create_model(model_name, global_pool='', num_classes=0, in_chans=3)\n",
    "        output_features = self.timm_(torch.zeros((1, 3, 112, 112))).shape[1]\n",
    "\n",
    "        # self.new_layer = nn.Sequential(\n",
    "        #     nn.Linear(output_features, 512),\n",
    "        #     nn.ReLU(),\n",
    "        #     nn.Dropout(0.5)\n",
    "        # )\n",
    "\n",
    "        self.norm = nn.BatchNorm1d(512)\n",
    "    def forward(self, x):\n",
    "        out_ = self.timm_(x).mean(dim=(2, 3))\n",
    "        # out_ = self.new_layer(out_)\n",
    "        out_ = self.norm(out_)\n",
    "        out_ = F.normalize(out_)\n",
    "        return out_"
   ]
  },
  {
   "cell_type": "code",
   "execution_count": 7,
   "id": "c584efc6",
   "metadata": {
    "execution": {
     "iopub.execute_input": "2025-03-06T20:29:51.702704Z",
     "iopub.status.busy": "2025-03-06T20:29:51.702468Z",
     "iopub.status.idle": "2025-03-06T20:29:51.866253Z",
     "shell.execute_reply": "2025-03-06T20:29:51.865423Z"
    },
    "papermill": {
     "duration": 0.168751,
     "end_time": "2025-03-06T20:29:51.867685",
     "exception": false,
     "start_time": "2025-03-06T20:29:51.698934",
     "status": "completed"
    },
    "tags": []
   },
   "outputs": [],
   "source": [
    "gc.collect()\n",
    "torch.cuda.empty_cache()"
   ]
  },
  {
   "cell_type": "code",
   "execution_count": 8,
   "id": "f7cff195",
   "metadata": {
    "execution": {
     "iopub.execute_input": "2025-03-06T20:29:51.874920Z",
     "iopub.status.busy": "2025-03-06T20:29:51.874703Z",
     "iopub.status.idle": "2025-03-06T20:29:51.878609Z",
     "shell.execute_reply": "2025-03-06T20:29:51.877954Z"
    },
    "papermill": {
     "duration": 0.008689,
     "end_time": "2025-03-06T20:29:51.879733",
     "exception": false,
     "start_time": "2025-03-06T20:29:51.871044",
     "status": "completed"
    },
    "tags": []
   },
   "outputs": [],
   "source": [
    "batch_size = 8\n",
    "valid_batch_size = 64\n",
    "epochs = 10\n",
    "lr = 0.001\n",
    "clip_grad_norm = 15.28\n",
    "DEVICE = 'cuda'\n",
    "\n",
    "params_train = {'batch_size': batch_size, 'shuffle': True, 'drop_last': True, 'num_workers': 6}\n",
    "params_val = {'batch_size': batch_size, 'shuffle': False, 'drop_last': False, 'num_workers': 6}"
   ]
  },
  {
   "cell_type": "code",
   "execution_count": 9,
   "id": "51a4ff9d",
   "metadata": {
    "execution": {
     "iopub.execute_input": "2025-03-06T20:29:51.886493Z",
     "iopub.status.busy": "2025-03-06T20:29:51.886268Z",
     "iopub.status.idle": "2025-03-06T20:29:51.897133Z",
     "shell.execute_reply": "2025-03-06T20:29:51.896527Z"
    },
    "papermill": {
     "duration": 0.015417,
     "end_time": "2025-03-06T20:29:51.898290",
     "exception": false,
     "start_time": "2025-03-06T20:29:51.882873",
     "status": "completed"
    },
    "tags": []
   },
   "outputs": [],
   "source": [
    "train_path = [x for i, x in enumerate(paths_embeds) if i % 5 != 0 ]\n",
    "train_target = [x for i, x in enumerate(real_embeds) if i % 5 != 0 ]\n",
    "\n",
    "\n",
    "val_path = [x for i, x in enumerate(paths_embeds) if i % 5 == 0 ]\n",
    "val_target = [x for i, x in enumerate(real_embeds) if i % 5 == 0 ]"
   ]
  },
  {
   "cell_type": "code",
   "execution_count": 10,
   "id": "95cb1761",
   "metadata": {
    "execution": {
     "iopub.execute_input": "2025-03-06T20:29:51.904996Z",
     "iopub.status.busy": "2025-03-06T20:29:51.904803Z",
     "iopub.status.idle": "2025-03-06T20:29:51.912950Z",
     "shell.execute_reply": "2025-03-06T20:29:51.912001Z"
    },
    "papermill": {
     "duration": 0.012806,
     "end_time": "2025-03-06T20:29:51.914209",
     "exception": false,
     "start_time": "2025-03-06T20:29:51.901403",
     "status": "completed"
    },
    "tags": []
   },
   "outputs": [
    {
     "name": "stderr",
     "output_type": "stream",
     "text": [
      "/usr/local/lib/python3.10/dist-packages/torch/utils/data/dataloader.py:617: UserWarning: This DataLoader will create 6 worker processes in total. Our suggested max number of worker in current system is 4, which is smaller than what this DataLoader is going to create. Please be aware that excessive worker creation might get DataLoader running slow or even freeze, lower the worker number to avoid potential slowness/freeze if necessary.\n",
      "  warnings.warn(\n"
     ]
    }
   ],
   "source": [
    "train_loader = torch.utils.data.DataLoader(MCSDataset(train_path, train_target), **params_train)\n",
    "val_loader = torch.utils.data.DataLoader(MCSDataset(val_path, val_target), **params_val)"
   ]
  },
  {
   "cell_type": "code",
   "execution_count": 11,
   "id": "088d51f3",
   "metadata": {
    "execution": {
     "iopub.execute_input": "2025-03-06T20:29:51.921137Z",
     "iopub.status.busy": "2025-03-06T20:29:51.920935Z",
     "iopub.status.idle": "2025-03-06T20:29:52.833765Z",
     "shell.execute_reply": "2025-03-06T20:29:52.833079Z"
    },
    "papermill": {
     "duration": 0.917974,
     "end_time": "2025-03-06T20:29:52.835346",
     "exception": false,
     "start_time": "2025-03-06T20:29:51.917372",
     "status": "completed"
    },
    "tags": []
   },
   "outputs": [],
   "source": [
    "model = Model('resnet18').cuda()\n",
    "num_train_steps = int(len(train_loader) / batch_size  * epochs)\n",
    "loss_func = torch.nn.MSELoss()"
   ]
  },
  {
   "cell_type": "code",
   "execution_count": 12,
   "id": "c00da223",
   "metadata": {
    "execution": {
     "iopub.execute_input": "2025-03-06T20:29:52.842966Z",
     "iopub.status.busy": "2025-03-06T20:29:52.842709Z",
     "iopub.status.idle": "2025-03-06T20:29:52.846877Z",
     "shell.execute_reply": "2025-03-06T20:29:52.846095Z"
    },
    "papermill": {
     "duration": 0.009199,
     "end_time": "2025-03-06T20:29:52.848043",
     "exception": false,
     "start_time": "2025-03-06T20:29:52.838844",
     "status": "completed"
    },
    "tags": []
   },
   "outputs": [],
   "source": [
    "scaler = GradScaler('cuda')\n",
    "optimizer = torch.optim.AdamW(model.parameters(), lr)\n",
    "scheduler = torch.optim.lr_scheduler.CosineAnnealingLR(optimizer, len(train_loader) * epochs, 0.0000001)"
   ]
  },
  {
   "cell_type": "code",
   "execution_count": 13,
   "id": "57134c01",
   "metadata": {
    "execution": {
     "iopub.execute_input": "2025-03-06T20:29:52.854965Z",
     "iopub.status.busy": "2025-03-06T20:29:52.854759Z",
     "iopub.status.idle": "2025-03-06T20:33:28.591426Z",
     "shell.execute_reply": "2025-03-06T20:33:28.590289Z"
    },
    "papermill": {
     "duration": 215.747582,
     "end_time": "2025-03-06T20:33:28.598752",
     "exception": false,
     "start_time": "2025-03-06T20:29:52.851170",
     "status": "completed"
    },
    "tags": []
   },
   "outputs": [
    {
     "name": "stdout",
     "output_type": "stream",
     "text": [
      "MSE:  0.0023780572\n",
      "MSE:  0.0019935227\n",
      "MSE:  0.001789554\n",
      "MSE:  0.0016780333\n",
      "MSE:  0.0016003742\n",
      "MSE:  0.0015518958\n",
      "MSE:  0.0015268045\n",
      "MSE:  0.0015163604\n",
      "MSE:  0.0015124416\n",
      "MSE:  0.0015148617\n"
     ]
    }
   ],
   "source": [
    "for epoch in range(epochs):\n",
    "    model.train()\n",
    "    average_loss = 0\n",
    "    for batch_number,  (img, target) in enumerate(train_loader):\n",
    "        optimizer.zero_grad()\n",
    "        img = img.to(DEVICE)\n",
    "        target = target.to(DEVICE)\n",
    "        \n",
    "        with torch.amp.autocast('cuda'):\n",
    "            outputs = model(img)\n",
    "            loss = loss_func(outputs, target)\n",
    "\n",
    "        scaler.scale(loss).backward()\n",
    "        scaler.unscale_(optimizer)\n",
    "        # torch.nn.utils.clip_grad_norm_(model.parameters(), clip_grad_norm)\n",
    "        scaler.step(optimizer)\n",
    "        scaler.update()\n",
    "        scheduler.step()\n",
    "\n",
    "        average_loss += loss.cpu().detach().numpy()\n",
    "    make_predict(model, val_loader,val_target, loss_func)\n",
    "    \n",
    "std_m = model.state_dict()\n",
    "torch.save(std_m, f'model_student.pt')"
   ]
  },
  {
   "cell_type": "code",
   "execution_count": 14,
   "id": "ef795b12",
   "metadata": {
    "execution": {
     "iopub.execute_input": "2025-03-06T20:33:28.607684Z",
     "iopub.status.busy": "2025-03-06T20:33:28.607315Z",
     "iopub.status.idle": "2025-03-06T20:33:28.613909Z",
     "shell.execute_reply": "2025-03-06T20:33:28.613109Z"
    },
    "papermill": {
     "duration": 0.01278,
     "end_time": "2025-03-06T20:33:28.615264",
     "exception": false,
     "start_time": "2025-03-06T20:33:28.602484",
     "status": "completed"
    },
    "tags": []
   },
   "outputs": [],
   "source": [
    "def read_img(path, image_size=112):\n",
    "    img = cv2.imread(f'{path2files}imgs/train/{path}')\n",
    "    img_ = cv2.resize(\n",
    "        img, (image_size, image_size), interpolation=cv2.INTER_LINEAR)\n",
    "    img = (img_ / 255.) - 0.5\n",
    "    img = np.transpose(img, (2, 0, 1)).astype(np.float32)\n",
    "    img = torch.from_numpy(img)\n",
    "    return img, img_"
   ]
  },
  {
   "cell_type": "code",
   "execution_count": 15,
   "id": "885c4836",
   "metadata": {
    "execution": {
     "iopub.execute_input": "2025-03-06T20:33:28.623334Z",
     "iopub.status.busy": "2025-03-06T20:33:28.623098Z",
     "iopub.status.idle": "2025-03-06T20:37:39.385699Z",
     "shell.execute_reply": "2025-03-06T20:37:39.384725Z"
    },
    "papermill": {
     "duration": 250.768362,
     "end_time": "2025-03-06T20:37:39.387228",
     "exception": false,
     "start_time": "2025-03-06T20:33:28.618866",
     "status": "completed"
    },
    "tags": []
   },
   "outputs": [
    {
     "name": "stderr",
     "output_type": "stream",
     "text": [
      "1000it [04:10,  3.99it/s]\n"
     ]
    }
   ],
   "source": [
    "max_iter = 100\n",
    "loss = nn.MSELoss()\n",
    "eps = 1e-3\n",
    "eps = 0.016\n",
    "attacked_img_dict = {}\n",
    "\n",
    "\n",
    "for sour, targ in tqdm(zip(pairs['source_imgs'], pairs['target_imgs'])):\n",
    "\n",
    "    target_descriptors = np.ones((5, 512), dtype=np.float32)\n",
    "    targ = targ.split('|')\n",
    "    sour = sour.split('|')\n",
    "\n",
    "    list_tagt_img = []\n",
    "    for i, t in enumerate(targ):\n",
    "        img, orig_tgt = read_img(t)\n",
    "        list_tagt_img += [orig_tgt]\n",
    "        img = img.unsqueeze(0).cuda(non_blocking = True)\n",
    "        res = model(Variable(img, requires_grad=False)).data.cpu().numpy().squeeze()\n",
    "        target_descriptors[i] = res\n",
    "\n",
    "    for ii, s in enumerate(sour): \n",
    "        img, orig_img = read_img(s)\n",
    "        img = img.unsqueeze(0).cuda(non_blocking = True)\n",
    "        input_var  = Variable(img, requires_grad=True)\n",
    "        attacked_img = orig_img\n",
    "        for iter_number in (range(max_iter)):\n",
    "            adv_noise = torch.zeros((3,112,112)).cuda(non_blocking = True)\n",
    "            for tg in target_descriptors:\n",
    "                target_out = Variable(torch.from_numpy(tg).unsqueeze(0).cuda(non_blocking=True), requires_grad=False)\n",
    "                input_var.grad = None\n",
    "                out = model(input_var)\n",
    "                calc_loss = loss(out, target_out)\n",
    "                calc_loss.backward()\n",
    "                # noise = eps * torch.sign(input_var.grad.data)\\\n",
    "                #                     .squeeze()\n",
    "                noise = eps * torch.clamp(input_var.grad.data / input_var.grad.data.std(), -2, 2)\n",
    "                adv_noise = adv_noise + noise\n",
    "\n",
    "            input_var.data = input_var.data - adv_noise\n",
    "\n",
    "            changed_img = input_var.data.cpu().squeeze()\n",
    "            changed_img = ((changed_img + 0.5) * 255)\n",
    "            changed_img[changed_img < 0] = 0\n",
    "            changed_img[changed_img > 255] = 255\n",
    "            changed_img = np.transpose(changed_img.numpy(), (1, 2, 0)).astype(np.int16)\n",
    "            ssim_score = ssim(orig_img, changed_img, channel_axis=2, data_range = 256)\n",
    "            if ssim_score < 0.95:\n",
    "                break\n",
    "            else:\n",
    "                attacked_img = changed_img\n",
    "        attacked_img_dict[s] = attacked_img"
   ]
  },
  {
   "cell_type": "code",
   "execution_count": 16,
   "id": "e27dc7f3",
   "metadata": {
    "execution": {
     "iopub.execute_input": "2025-03-06T20:37:39.478414Z",
     "iopub.status.busy": "2025-03-06T20:37:39.478151Z",
     "iopub.status.idle": "2025-03-06T20:38:20.122935Z",
     "shell.execute_reply": "2025-03-06T20:38:20.122137Z"
    },
    "papermill": {
     "duration": 40.691243,
     "end_time": "2025-03-06T20:38:20.124233",
     "exception": false,
     "start_time": "2025-03-06T20:37:39.432990",
     "status": "completed"
    },
    "tags": []
   },
   "outputs": [
    {
     "name": "stderr",
     "output_type": "stream",
     "text": [
      "100%|██████████| 5000/5000 [00:26<00:00, 186.11it/s]\n"
     ]
    }
   ],
   "source": [
    "sample_submission = pl.read_csv(path2files + 'imgs/sample_submission.csv')\n",
    "sample_submission_df = pl.DataFrame()\n",
    "sample_submission_df['Id'] = sample_submission['Id']\n",
    "\n",
    "result = []\n",
    "for id_ in tqdm(sample_submission_df['Id']):\n",
    "    result += ['|'.join([str(i) for i in attacked_img_dict[id_].flatten().tolist()])]\n",
    "sample_submission_df['Target'] = result"
   ]
  },
  {
   "cell_type": "code",
   "execution_count": 17,
   "id": "c50903f4",
   "metadata": {
    "execution": {
     "iopub.execute_input": "2025-03-06T20:38:20.239144Z",
     "iopub.status.busy": "2025-03-06T20:38:20.238910Z",
     "iopub.status.idle": "2025-03-06T20:38:31.535680Z",
     "shell.execute_reply": "2025-03-06T20:38:31.534902Z"
    },
    "papermill": {
     "duration": 11.35468,
     "end_time": "2025-03-06T20:38:31.537276",
     "exception": false,
     "start_time": "2025-03-06T20:38:20.182596",
     "status": "completed"
    },
    "tags": []
   },
   "outputs": [],
   "source": [
    "sample_submission_df.to_csv('submission.csv', index=None)"
   ]
  },
  {
   "cell_type": "code",
   "execution_count": 18,
   "id": "5268f07a",
   "metadata": {
    "execution": {
     "iopub.execute_input": "2025-03-06T20:38:31.692737Z",
     "iopub.status.busy": "2025-03-06T20:38:31.692444Z",
     "iopub.status.idle": "2025-03-06T20:38:31.695545Z",
     "shell.execute_reply": "2025-03-06T20:38:31.694862Z"
    },
    "papermill": {
     "duration": 0.063309,
     "end_time": "2025-03-06T20:38:31.696862",
     "exception": false,
     "start_time": "2025-03-06T20:38:31.633553",
     "status": "completed"
    },
    "tags": []
   },
   "outputs": [],
   "source": [
    "#!kaggle competitions submit -c ioai-contest-2 -f sample_submission_fgvm_attack.csv"
   ]
  }
 ],
 "metadata": {
  "kaggle": {
   "accelerator": "nvidiaTeslaT4",
   "dataSources": [
    {
     "databundleVersionId": 11169137,
     "sourceId": 93773,
     "sourceType": "competition"
    }
   ],
   "dockerImageVersionId": 30919,
   "isGpuEnabled": true,
   "isInternetEnabled": true,
   "language": "python",
   "sourceType": "notebook"
  },
  "kernelspec": {
   "display_name": "Python 3",
   "language": "python",
   "name": "python3"
  },
  "language_info": {
   "codemirror_mode": {
    "name": "ipython",
    "version": 3
   },
   "file_extension": ".py",
   "mimetype": "text/x-python",
   "name": "python",
   "nbconvert_exporter": "python",
   "pygments_lexer": "ipython3",
   "version": "3.10.12"
  },
  "papermill": {
   "default_parameters": {},
   "duration": 544.528525,
   "end_time": "2025-03-06T20:38:34.723533",
   "environment_variables": {},
   "exception": null,
   "input_path": "__notebook__.ipynb",
   "output_path": "__notebook__.ipynb",
   "parameters": {},
   "start_time": "2025-03-06T20:29:30.195008",
   "version": "2.6.0"
  }
 },
 "nbformat": 4,
 "nbformat_minor": 5
}
